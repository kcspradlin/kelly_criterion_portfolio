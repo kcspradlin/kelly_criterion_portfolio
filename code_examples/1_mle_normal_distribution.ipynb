{
 "cells": [
  {
   "cell_type": "markdown",
   "id": "eded6a3e",
   "metadata": {},
   "source": [
    "This notebook will demonstrate how to use Python and some of its modules to estimate parameters of a normal distribution for a randomly-generated set of data.  It will use the maximum likelihood estimation (MLE) approach to find the parameters.\n",
    "\n",
    "Created on August 24, 2022 by Kevin Spradlin, Jr."
   ]
  },
  {
   "cell_type": "markdown",
   "id": "65d7a919",
   "metadata": {},
   "source": [
    "First, import some Python modules."
   ]
  },
  {
   "cell_type": "code",
   "execution_count": 6,
   "id": "4ac78c02",
   "metadata": {},
   "outputs": [],
   "source": [
    "import typing\n",
    "import math\n",
    "import numpy as np\n",
    "import scipy.stats as stats\n",
    "import scipy.optimize as optimize"
   ]
  },
  {
   "cell_type": "markdown",
   "id": "dae27d00",
   "metadata": {},
   "source": [
    "Next, define a function for generating random standard normal variates."
   ]
  },
  {
   "cell_type": "code",
   "execution_count": 4,
   "id": "ab592a29",
   "metadata": {},
   "outputs": [],
   "source": [
    "def std_normal_leva():\n",
    "    \"\"\"\n",
    "    This function returns a random variate from a standard normal distribution.\n",
    "    It uses the Leva ratio of uniforms method.\n",
    "    \n",
    "    \"A Fast Normal Random Number Generator\", ACM Transactions on Mathematical Software, 18, 449-455, 1992.\n",
    "    \n",
    "    Created on August 24, 2022\n",
    "    \"\"\"\n",
    "    \n",
    "    uniform_variates: np.ndarray = np.array(2, dtype=np.float32)\n",
    "    interm_v2: float = 0.0\n",
    "    param_s: float = 0.449871\n",
    "    param_t: float = -0.386595\n",
    "    param_a: float = 0.19600\n",
    "    param_b: float = 0.25472\n",
    "    param_r1: float = 0.27597\n",
    "    param_r2: float = 0.27846\n",
    "    param_ratio: float = 0.857764    # Sqrt(2.0 / e)\n",
    "\n",
    "    exit_loop: int = 0    \n",
    "\n",
    "    \n",
    "    while exit_loop < 1:\n",
    "        uniform_variates: np.ndarray = np.random.rand(2)\n",
    "#        uniform_1 = (<double> base_rng.rand_internal()) / base_rng.base_dbl\n",
    "#        uniform_2 = (<double> base_rng.rand_internal()) / base_rng.base_dbl\n",
    "\n",
    "        interm_v2 = (2.0 * uniform_variates[1] - 1.0) * param_ratio\n",
    "\n",
    "        interm_x: float = uniform_variates[0] - param_s\n",
    "\n",
    "        interm_y: float = math.fabs(interm_v2) - param_t\n",
    "\n",
    "        interm_q: float = (param_a * interm_y) - (param_b * interm_x)\n",
    "        interm_q = (interm_q * interm_y) + (interm_x * interm_x)\n",
    "\n",
    "        if uniform_variates[0] > 0.00000001:\n",
    "            if interm_q < param_r1:\n",
    "                exit_loop = 1\n",
    "                break\n",
    "            elif interm_q < param_r2:\n",
    "                test_value: float = math.log(uniform_variates[0])\n",
    "                test_value = (test_value * -4.0 * uniform_variates[0] * uniform_variates[0]) - (interm_v2 * interm_v2)\n",
    "\n",
    "                if test_value > 0.0:\n",
    "                    exit_loop = 1\n",
    "                    break\n",
    "      \n",
    "    return (interm_v2 / uniform_variates[0])    "
   ]
  },
  {
   "cell_type": "markdown",
   "id": "80edb14e",
   "metadata": {},
   "source": [
    "Now, create a set of random normal variates using the ***std_normal_leva*** function."
   ]
  },
  {
   "cell_type": "code",
   "execution_count": 26,
   "id": "08d92258",
   "metadata": {},
   "outputs": [],
   "source": [
    "# let the user define the mean and standard deviation of the normal distribution\n",
    "mean: float = -0.0145\n",
    "std_dev: float = 0.245\n",
    "    \n",
    "\n",
    "# generate 10,000 random normal variates\n",
    "random_sample: np.ndarray = np.asarray([mean + std_dev * std_normal_leva() for __ in range(10000)], dtype=np.float32)\n"
   ]
  },
  {
   "cell_type": "markdown",
   "id": "29d4b68b",
   "metadata": {},
   "source": [
    "Before we use the MLE approach, let's calculate the basic statistics of the sample of random normal variates.  They should show that the mean and standard deviation of the sample are close to the values you defined, since the parameters that maximize the likelihood function are the sample mean and biased standard deviation.  The sample statistics should also show that the skewness and excess kurtosis are close to zero."
   ]
  },
  {
   "cell_type": "code",
   "execution_count": 27,
   "id": "1f4f18e5",
   "metadata": {},
   "outputs": [
    {
     "name": "stdout",
     "output_type": "stream",
     "text": [
      "Sample mean:      -0.0155\n",
      "Sample standard deviation:       0.2454\n",
      "Sample skewness:      -0.0164\n",
      "Sample excess kurtosis:      -0.0346\n"
     ]
    }
   ],
   "source": [
    "results = stats.describe(random_sample)\n",
    "print(f\"Sample mean: {results[2]:12.4f}\")\n",
    "print(f\"Sample standard deviation: {results[3]**0.5:12.4f}\")\n",
    "print(f\"Sample skewness: {results[4]:12.4f}\")\n",
    "print(f\"Sample excess kurtosis: {results[5]:12.4f}\")"
   ]
  },
  {
   "cell_type": "markdown",
   "id": "cf475b65",
   "metadata": {},
   "source": [
    "Now, we'll use the MLE approach.\n",
    "First define a function that calculates the log-likelihood function.  Then find the parameters that maximize the log-likelihood function."
   ]
  },
  {
   "cell_type": "code",
   "execution_count": 28,
   "id": "40b7630d",
   "metadata": {},
   "outputs": [],
   "source": [
    "def log_likelihood_norm(parameters: np.ndarray, variates: np.ndarray) -> float:\n",
    "    \"\"\"\n",
    "    Returns the negative of the log-likelihood function.  The scipy.optimize module only\n",
    "     has a 'minimize' function, so you need to use it to minimize the negative of the\n",
    "     log-likelihood function, which will maximize the positive of the log-likelihood\n",
    "     function.\n",
    "\n",
    "    Expect parameters[0] to be the mean and parameters[1] to be the standard deviation.\n",
    "\n",
    "    Created on August 24, 2022\n",
    "    \"\"\"\n",
    "    \n",
    "    temp_sum: float = -np.sum(stats.norm.logpdf(variates, loc=parameters[0], scale=parameters[1]))\n",
    "\n",
    "    return temp_sum"
   ]
  },
  {
   "cell_type": "code",
   "execution_count": 29,
   "id": "fb9c7533",
   "metadata": {},
   "outputs": [
    {
     "name": "stdout",
     "output_type": "stream",
     "text": [
      "MLE - mean:      -0.0155\n",
      "MLE - standard deviation:       0.2454\n"
     ]
    }
   ],
   "source": [
    "init_parameters: np.ndarray = np.ones(2, dtype=np.float32)\n",
    "\n",
    "opt_results = optimize.minimize(log_likelihood_norm, x0=init_parameters, args=(random_sample), method='Nelder-Mead')\n",
    "\n",
    "print(f\"MLE - mean: {opt_results.x[0]:12.4f}\")\n",
    "print(f\"MLE - standard deviation: {opt_results.x[1]:12.4f}\")"
   ]
  },
  {
   "cell_type": "code",
   "execution_count": null,
   "id": "3f108262",
   "metadata": {},
   "outputs": [],
   "source": []
  }
 ],
 "metadata": {
  "kernelspec": {
   "display_name": "Python 3 (ipykernel)",
   "language": "python",
   "name": "python3"
  },
  "language_info": {
   "codemirror_mode": {
    "name": "ipython",
    "version": 3
   },
   "file_extension": ".py",
   "mimetype": "text/x-python",
   "name": "python",
   "nbconvert_exporter": "python",
   "pygments_lexer": "ipython3",
   "version": "3.9.2"
  }
 },
 "nbformat": 4,
 "nbformat_minor": 5
}
